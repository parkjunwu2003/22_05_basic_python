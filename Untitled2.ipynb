{
  "nbformat": 4,
  "nbformat_minor": 0,
  "metadata": {
    "colab": {
      "provenance": [],
      "authorship_tag": "ABX9TyM5hbfXhWYd+o6hgRXURTOR",
      "include_colab_link": true
    },
    "kernelspec": {
      "name": "python3",
      "display_name": "Python 3"
    },
    "language_info": {
      "name": "python"
    }
  },
  "cells": [
    {
      "cell_type": "markdown",
      "metadata": {
        "id": "view-in-github",
        "colab_type": "text"
      },
      "source": [
        "<a href=\"https://colab.research.google.com/github/parkjunwu2003/22_05_basic_python/blob/main/Untitled2.ipynb\" target=\"_parent\"><img src=\"https://colab.research.google.com/assets/colab-badge.svg\" alt=\"Open In Colab\"/></a>"
      ]
    },
    {
      "cell_type": "code",
      "execution_count": null,
      "metadata": {
        "id": "IQLGVZXmThmt"
      },
      "outputs": [],
      "source": []
    },
    {
      "cell_type": "markdown",
      "source": [
        "19. 다음 보기의 사칙연산을 완성하시오. 한 줄에 모두, 여러줄로 나누어서, 보기좋게 정리.\n",
        "\n"
      ],
      "metadata": {
        "id": "GsY89y3KTiFI"
      }
    },
    {
      "cell_type": "code",
      "source": [
        "print(1+2, 2-3, 3*4, 4/4)"
      ],
      "metadata": {
        "colab": {
          "base_uri": "https://localhost:8080/"
        },
        "id": "EeL5mfwOUWjJ",
        "outputId": "ee3244d3-2f25-4ab5-906f-2f4b1feb491c"
      },
      "execution_count": 2,
      "outputs": [
        {
          "output_type": "stream",
          "name": "stdout",
          "text": [
            "3 -1 12 1.0\n"
          ]
        }
      ]
    },
    {
      "cell_type": "markdown",
      "source": [
        "제1조 1항 대한민국은 민주공화국이다."
      ],
      "metadata": {
        "id": "fE4iEGJvVBjJ"
      }
    },
    {
      "cell_type": "code",
      "source": [
        "print(\"*\" * 40)\n",
        "print(\"* 제1조 1항 대한민국은 민주공화국이다. *\")\n",
        "print(\"*\" * 40)"
      ],
      "metadata": {
        "colab": {
          "base_uri": "https://localhost:8080/"
        },
        "id": "eQt5acFYVKuT",
        "outputId": "8af9ef2d-74ea-462d-e54f-51e464835395"
      },
      "execution_count": 3,
      "outputs": [
        {
          "output_type": "stream",
          "name": "stdout",
          "text": [
            "****************************************\n",
            "* 제1조 1항 대한민국은 민주공화국이다. *\n",
            "****************************************\n"
          ]
        }
      ]
    },
    {
      "cell_type": "markdown",
      "source": [
        "21. 사용자에게 성명, 나이, 주소를 입력받아서 출력하라."
      ],
      "metadata": {
        "id": "EbCOa6evWK8s"
      }
    },
    {
      "cell_type": "code",
      "source": [
        "from re import A\n",
        "name = input (\"이름을 입력하시오 : \")\n",
        "age  = input (\"나이를 입력하시오 : \")\n",
        "addr = input (\"주소를 입력하시오 : \")\n",
        "print(name)\n",
        "print(age)\n",
        "print(addr)\n",
        "print(name, age, addr)"
      ],
      "metadata": {
        "colab": {
          "base_uri": "https://localhost:8080/"
        },
        "id": "hgGhV77NWWON",
        "outputId": "2f148f90-0cba-4675-c4e4-0b11e76ffd89"
      },
      "execution_count": 4,
      "outputs": [
        {
          "output_type": "stream",
          "name": "stdout",
          "text": [
            "이름을 입력하시오 : 박준우\n",
            "나이를 입력하시오 : 20\n",
            "주소를 입력하시오 : 군산\n",
            "박준우\n",
            "20\n",
            "군산\n",
            "박준우 20 군산\n"
          ]
        }
      ]
    },
    {
      "cell_type": "markdown",
      "source": [],
      "metadata": {
        "id": "33HP-hYjXnO6"
      }
    },
    {
      "cell_type": "code",
      "source": [
        "n1=input(\"첫 번쨰 정수를 입력하시오.:\")\n",
        "n2=input(\"두 번쨰 정수를 입력하시오.:\")\n",
        "print(\"두 합의 값은\" ,n1+n2, \"입니다\")"
      ],
      "metadata": {
        "colab": {
          "base_uri": "https://localhost:8080/"
        },
        "id": "RSU2bFfHZ45Y",
        "outputId": "48dedf9f-b88c-46c6-d2e6-f1b87be5fe71"
      },
      "execution_count": 5,
      "outputs": [
        {
          "output_type": "stream",
          "name": "stdout",
          "text": [
            "첫 번쨰 정수를 입력하시오.:100\n",
            "두 번쨰 정수를 입력하시오.:100\n",
            "두 합의 값은 100100 입니다\n"
          ]
        }
      ]
    },
    {
      "cell_type": "markdown",
      "source": [],
      "metadata": {
        "id": "81FTsTLcbhGd"
      }
    }
  ]
}