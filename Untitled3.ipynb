{
  "nbformat": 4,
  "nbformat_minor": 0,
  "metadata": {
    "colab": {
      "provenance": [],
      "authorship_tag": "ABX9TyOnb4SNYs+9H1JiaUotNP6R",
      "include_colab_link": true
    },
    "kernelspec": {
      "name": "python3",
      "display_name": "Python 3"
    },
    "language_info": {
      "name": "python"
    }
  },
  "cells": [
    {
      "cell_type": "markdown",
      "metadata": {
        "id": "view-in-github",
        "colab_type": "text"
      },
      "source": [
        "<a href=\"https://colab.research.google.com/github/parkjunwu2003/22_05_basic_python/blob/main/Untitled3.ipynb\" target=\"_parent\"><img src=\"https://colab.research.google.com/assets/colab-badge.svg\" alt=\"Open In Colab\"/></a>"
      ]
    },
    {
      "cell_type": "markdown",
      "source": [
        "1. 왜 다음과 같은 수식이 오류를 발생시키는가? 올바르게 수정하라\n",
        "'나는 ' + 12 + '개의 사과를 먹었다.'\n"
      ],
      "metadata": {
        "id": "K-zSyrsJb8H9"
      }
    },
    {
      "cell_type": "code",
      "source": [
        "'나는 ' + str(12) + '개의 사과를 먹었다.'"
      ],
      "metadata": {
        "colab": {
          "base_uri": "https://localhost:8080/",
          "height": 35
        },
        "id": "CsMyRvlPcZJC",
        "outputId": "c09c08e7-d4cd-4704-f465-ca4eb07f73b2"
      },
      "execution_count": 1,
      "outputs": [
        {
          "output_type": "execute_result",
          "data": {
            "text/plain": [
              "'나는 12개의 사과를 먹었다.'"
            ],
            "application/vnd.google.colaboratory.intrinsic+json": {
              "type": "string"
            }
          },
          "metadata": {},
          "execution_count": 1
        }
      ]
    },
    {
      "cell_type": "markdown",
      "source": [
        "2. 다음과 같은 수식을 게산하면 결과는 무엇인가?\n",
        "'apple' + 'grape'\n",
        "'apple' * 3\n"
      ],
      "metadata": {
        "id": "p_By8Lwec2ZL"
      }
    },
    {
      "cell_type": "code",
      "source": [
        "'apple' + 'grape'\n",
        "'apple' * 3"
      ],
      "metadata": {
        "colab": {
          "base_uri": "https://localhost:8080/",
          "height": 35
        },
        "id": "AZPaSp0ndOXV",
        "outputId": "d3b05e68-0622-4299-b5e6-0c915f79240d"
      },
      "execution_count": 4,
      "outputs": [
        {
          "output_type": "execute_result",
          "data": {
            "text/plain": [
              "'appleappleapple'"
            ],
            "application/vnd.google.colaboratory.intrinsic+json": {
              "type": "string"
            }
          },
          "metadata": {},
          "execution_count": 4
        }
      ]
    },
    {
      "cell_type": "markdown",
      "source": [
        "3. 다음과 같이 사용자가 입력한 문자열 중에서 처음 2 글가와 마지막 2 글자를 추출한 후에 이들을 합쳐서 출력해보자.\n",
        "문자를 입력하시오 : python\n",
        ">>>"
      ],
      "metadata": {
        "id": "E-YB-hYkd2YL"
      }
    },
    {
      "cell_type": "code",
      "source": [
        "str + input(\"문자열을 입력하시오: \")\n",
        "s = str[0:2] + str[-2:]\n",
        "\n",
        "print(s)"
      ],
      "metadata": {
        "id": "Q_mHA7XVefij"
      },
      "execution_count": null,
      "outputs": []
    },
    {
      "cell_type": "markdown",
      "source": [
        "4. 다음과 같이 사용자가 입력한 문자열 뒤에 항상 \"하는 중\"을 붙이는 프로그램을 작성해 보자.\n",
        "문자열을 입력하시오: 청소\n",
        "청소하는 중\n",
        ">>>"
      ],
      "metadata": {
        "id": "XQEzlJJif1US"
      }
    },
    {
      "cell_type": "code",
      "source": [
        "s = input(\"문자열을 입력하시오: \")\n",
        "s += \"하는 중\"\n",
        "print(s)"
      ],
      "metadata": {
        "colab": {
          "base_uri": "https://localhost:8080/"
        },
        "id": "bGLOViRHgIT1",
        "outputId": "e2839664-355e-4cf9-8286-b8fa53ca2551"
      },
      "execution_count": 19,
      "outputs": [
        {
          "output_type": "stream",
          "name": "stdout",
          "text": [
            "문자열을 입력하시오: 청소\n",
            "청소하는 중\n"
          ]
        }
      ]
    },
    {
      "cell_type": "markdown",
      "source": [
        "5. 사용자가 입력한 기호 안에 문자열을 삽입하려면 어떻게 해야 하는가? 기호는 문자  2개로 이루어졌다고 가정한다.\n",
        "기호를 입력하시오: []\n",
        "중간에 삽입할 문자열을 입력하시오: python\n",
        "[python]\n",
        ">>>\n"
      ],
      "metadata": {
        "id": "PFdE91sghSIi"
      }
    },
    {
      "cell_type": "code",
      "source": [
        "str = input(\"기호를 입력하시오: \")\n",
        "word = input(\"중간에 삽입할 문자열을 입력하시오: \")\n",
        "s = str[:1] + word + str[1:]\n",
        "\n",
        "print(s)"
      ],
      "metadata": {
        "colab": {
          "base_uri": "https://localhost:8080/"
        },
        "id": "d43f-RRXhz5i",
        "outputId": "762f8c65-eef2-48bd-b85e-1f9a9336fde1"
      },
      "execution_count": 20,
      "outputs": [
        {
          "output_type": "stream",
          "name": "stdout",
          "text": [
            "기호를 입력하시오: []\n",
            "중간에 삽입할 문자열을 입력하시오: python\n",
            "[python]\n"
          ]
        }
      ]
    },
    {
      "cell_type": "markdown",
      "source": [
        "6. 4개의 숫자가 들어 있는 리스트가 있다. 리스트 안의 숫자들을 꺼내서 합계를 계산하여 출력하는 프로그램을 작성하라. 반복문은 사용하지 않는다. 리스트의 길이는 항상 4라고 가정한다.\n",
        "리스트 = [1, 2, 3, 4]\n",
        "리스트 숫자들의 합 = 10\n",
        ">>>"
      ],
      "metadata": {
        "id": "7wrHY61BinRM"
      }
    },
    {
      "cell_type": "code",
      "source": [
        "lista = [1, 2, 3, 4]\n",
        "sum = 0\n",
        "sum = lista[0] + lista[2]+ lista[3]\n",
        "print(\"리스트 = \", lista)\n",
        "print(\"리스트 숫자들의 합 = \", sum)"
      ],
      "metadata": {
        "colab": {
          "base_uri": "https://localhost:8080/"
        },
        "id": "x1w3Fa0AjMRV",
        "outputId": "0b262082-5777-4b1c-aae3-9b75292b84bb"
      },
      "execution_count": 21,
      "outputs": [
        {
          "output_type": "stream",
          "name": "stdout",
          "text": [
            "리스트 =  [1, 2, 3, 4]\n",
            "리스트 숫자들의 합 =  8\n"
          ]
        }
      ]
    }
  ]
}