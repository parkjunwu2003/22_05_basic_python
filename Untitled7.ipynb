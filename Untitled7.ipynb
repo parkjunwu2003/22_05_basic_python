{
  "nbformat": 4,
  "nbformat_minor": 0,
  "metadata": {
    "colab": {
      "provenance": [],
      "authorship_tag": "ABX9TyNJjvrPY/lBGmYqKkGaOEIO",
      "include_colab_link": true
    },
    "kernelspec": {
      "name": "python3",
      "display_name": "Python 3"
    },
    "language_info": {
      "name": "python"
    }
  },
  "cells": [
    {
      "cell_type": "markdown",
      "metadata": {
        "id": "view-in-github",
        "colab_type": "text"
      },
      "source": [
        "<a href=\"https://colab.research.google.com/github/parkjunwu2003/22_05_basic_python/blob/main/Untitled7.ipynb\" target=\"_parent\"><img src=\"https://colab.research.google.com/assets/colab-badge.svg\" alt=\"Open In Colab\"/></a>"
      ]
    },
    {
      "cell_type": "code",
      "source": [
        "from tultle import*\n",
        "\n",
        "f1 = Tultle()\n",
        "t.shape(\"circle\")\n",
        "\n",
        "t2 = Tultle()\n",
        "t2.shape(\"circle\")\n",
        "\n",
        "t3 = Tultle()\n",
        "t3.shape(\"square\")\n",
        "\n",
        "t1.penup()\n",
        "t2.penup()\n",
        "t1.goto(0,100)\n",
        "t2.goto(0,50)\n",
        "t1.pendown()\n",
        "t2.pendown()\n",
        "\n",
        "wile True:\n",
        "    t1.circle(100)\n",
        "    t2.circle(150)\n",
        "    t3.circle(200)\n",
        "\n"
      ],
      "metadata": {
        "colab": {
          "base_uri": "https://localhost:8080/",
          "height": 137
        },
        "id": "s6vWUmdU2jxE",
        "outputId": "3810ea13-d734-4340-87d2-4d245ac5ff5d"
      },
      "execution_count": 1,
      "outputs": [
        {
          "output_type": "error",
          "ename": "SyntaxError",
          "evalue": "ignored",
          "traceback": [
            "\u001b[0;36m  File \u001b[0;32m\"<ipython-input-1-87258d8c3ca0>\"\u001b[0;36m, line \u001b[0;32m19\u001b[0m\n\u001b[0;31m    wile True:\u001b[0m\n\u001b[0m         ^\u001b[0m\n\u001b[0;31mSyntaxError\u001b[0m\u001b[0;31m:\u001b[0m invalid syntax\n"
          ]
        }
      ]
    }
  ]
}