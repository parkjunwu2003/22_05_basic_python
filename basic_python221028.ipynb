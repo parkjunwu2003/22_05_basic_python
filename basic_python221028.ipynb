{
  "nbformat": 4,
  "nbformat_minor": 0,
  "metadata": {
    "colab": {
      "provenance": [],
      "authorship_tag": "ABX9TyOQjWjNGrE+zRCLn4nVglWf",
      "include_colab_link": true
    },
    "kernelspec": {
      "name": "python3",
      "display_name": "Python 3"
    },
    "language_info": {
      "name": "python"
    }
  },
  "cells": [
    {
      "cell_type": "markdown",
      "metadata": {
        "id": "view-in-github",
        "colab_type": "text"
      },
      "source": [
        "<a href=\"https://colab.research.google.com/github/parkjunwu2003/22_05_basic_python/blob/main/basic_python221028.ipynb\" target=\"_parent\"><img src=\"https://colab.research.google.com/assets/colab-badge.svg\" alt=\"Open In Colab\"/></a>"
      ]
    },
    {
      "cell_type": "code",
      "execution_count": null,
      "metadata": {
        "id": "pmCsQ8sTaLYT"
      },
      "outputs": [],
      "source": [
        "x = int(input(\"x의 값은?: \"))\n",
        "y = int(input(\"y의 값은?: \"))\n",
        "\n",
        "print(\"두 수의 합은 :\" , x + y)\n",
        "print(\"두 수의 차는 :\" , x - y)\n",
        "print(\"두 수의 곱은 :\" , x * y)\n",
        "print(\"두 수의 평균은 :\" , (x + y)/2)\n",
        "print(\"큰 수는? :\" , max (x, y))\n",
        "print(\"작은 수는?  :\" , min(x, y))"
      ]
    }
  ]
}