{
  "nbformat": 4,
  "nbformat_minor": 0,
  "metadata": {
    "colab": {
      "provenance": [],
      "authorship_tag": "ABX9TyOda3OPK3k+mysOleRU5hu4",
      "include_colab_link": true
    },
    "kernelspec": {
      "name": "python3",
      "display_name": "Python 3"
    },
    "language_info": {
      "name": "python"
    }
  },
  "cells": [
    {
      "cell_type": "markdown",
      "metadata": {
        "id": "view-in-github",
        "colab_type": "text"
      },
      "source": [
        "<a href=\"https://colab.research.google.com/github/parkjunwu2003/22_05_basic_python/blob/main/chapter2_exe.ipynb\" target=\"_parent\"><img src=\"https://colab.research.google.com/assets/colab-badge.svg\" alt=\"Open In Colab\"/></a>"
      ]
    },
    {
      "cell_type": "code",
      "source": [
        "radius = int(input(\"반지름을 입력하시오: \"))\n",
        "area = 3.141592 * radius * radius\n",
        "print(\"반지름이\", radius, \"인 원의 넓이 =\", area)"
      ],
      "metadata": {
        "colab": {
          "base_uri": "https://localhost:8080/"
        },
        "id": "Z3UrzsS7WR0z",
        "outputId": "05744719-9ca6-4a5c-c1b7-b5915a964927"
      },
      "execution_count": 10,
      "outputs": [
        {
          "output_type": "stream",
          "name": "stdout",
          "text": [
            "반지름을 입력하시오: 10\n",
            "반지름이 10 인 원의 넓이 = 314.1592\n"
          ]
        }
      ]
    }
  ]
}